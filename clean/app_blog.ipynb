{
 "cells": [
  {
   "cell_type": "code",
   "execution_count": null,
   "id": "d89fcebc",
   "metadata": {},
   "outputs": [],
   "source": [
    "## This cell is automatically generated\n",
    "import os.path\n",
    "from os import path\n",
    "\n",
    "# set this value to True if you would like to persist datasets locally\n",
    "# (including changes to these datasets)\n",
    "persisted_data = False\n",
    "SHARED_DIR = '/content/gdrive/Shareddrives/FastAICourse/datasets/'\n",
    "LOCAL_DIR = '/content/gdrive/MyDrive/SchibstedFastAICourse/datasets/'\n",
    "TEMPORARY_PETS_DIR = './pets/'\n",
    "TEMPORARY_BULLDOZERS_DIR = './kaggle_bulldozers/'\n",
    "TEMPORARY_POLLUTION_DIR = './kaggle_stores/'\n",
    "LOCAL_PETS_DIR = LOCAL_DIR+'pets/'\n",
    "LOCAL_BULLDOZERS_DIR = LOCAL_DIR+'kaggle_bulldozers/'\n",
    "LOCAL_STORES_DIR = LOCAL_DIR+'kaggle_stores/'\n",
    "path=TEMPORARY_BULLDOZERS_DIR\n",
    "\n",
    "def setup(persisted_data):\n",
    "    !pip install -Uqq fastai fastbook fastcore dtreeviz\n",
    "    import fastbook\n",
    "    fastbook.setup_book()\n",
    "    if persisted_data:\n",
    "        #NB: While untaring the training folders you are likely to get a 'unknown header' warning - this can be ignored\n",
    "        # check for existing copy on permanent drive location\n",
    "        if not path.exists(LOCAL_PETS_DIR):\n",
    "            # if local folder does not exist, create folder and untar data\n",
    "            !mkdir -p {LOCAL_DIR}\n",
    "            !tar xfz {SHARED_DIR}finn_animals.tar.gz --directory {LOCAL_DIR}\n",
    "            !tar xfz {SHARED_DIR}kaggle_bulldozers.tar.gz --directory {LOCAL_DIR}\n",
    "            !tar xfz {SHARED_DIR}kaggle_stores.tar.gz --directory {LOCAL_DIR}\n",
    "        path=LOCAL_BULLDOZERS_DIR\n",
    "    else:\n",
    "        # untar training data to temporary drive location\n",
    "        !tar xfz {SHARED_DIR}finn_animals.tar.gz\n",
    "        !tar xfz {SHARED_DIR}kaggle_bulldozers.tar.gz\n",
    "        !tar xfz {SHARED_DIR}kaggle_stores.tar.gz\n",
    "\n",
    "setup(persisted_data)\n",
    "\n",
    "\n"
   ]
  },
  {
   "cell_type": "markdown",
   "metadata": {},
   "source": [
    "## Blogging with GitHub Pages"
   ]
  },
  {
   "cell_type": "markdown",
   "metadata": {},
   "source": [
    "### Creating the Repository"
   ]
  },
  {
   "cell_type": "markdown",
   "metadata": {},
   "source": [
    "### Setting Up Your Home Page"
   ]
  },
  {
   "cell_type": "markdown",
   "metadata": {},
   "source": [
    "### Creating Posts"
   ]
  },
  {
   "cell_type": "markdown",
   "metadata": {},
   "source": [
    "### Synchronizing GitHub and Your Computer"
   ]
  },
  {
   "cell_type": "markdown",
   "metadata": {},
   "source": [
    "## Jupyter for Blogging"
   ]
  },
  {
   "cell_type": "code",
   "execution_count": null,
   "metadata": {},
   "outputs": [],
   "source": []
  }
 ],
 "metadata": {
  "jupytext": {
   "split_at_heading": true
  },
  "kernelspec": {
   "display_name": "Python 3",
   "language": "python",
   "name": "python3"
  }
 },
 "nbformat": 4,
 "nbformat_minor": 2
}
