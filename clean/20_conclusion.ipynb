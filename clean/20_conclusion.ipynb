{
 "cells": [
  {
   "cell_type": "code",
   "execution_count": null,
   "id": "346066f3",
   "metadata": {},
   "outputs": [],
   "source": [
    "## This cell is automatically generated\n",
    "import os.path\n",
    "from os import path\n",
    "\n",
    "# set this value to True if you would like to persist datasets locally\n",
    "# (including changes to these datasets)\n",
    "persisted_data = False\n",
    "SHARED_DIR = '/content/gdrive/Shareddrives/FastAICourse/datasets/'\n",
    "LOCAL_DIR = '/content/gdrive/MyDrive/SchibstedFastAICourse/datasets/'\n",
    "TEMPORARY_PETS_DIR = './pets/'\n",
    "LOCAL_PETS_DIR = LOCAL_DIR+'pets/'\n",
    "\n",
    "def setup(persisted_data):\n",
    "    !pip install -Uqq fastai==2.5.5 fastbook==0.0.20 fastcore==1.4.1 tornado==5.1.1\n",
    "    import fastbook\n",
    "    fastbook.setup_book()\n",
    "    if persisted_data:\n",
    "      # check for existing copy on permanent drive location\n",
    "      if not path.exists(LOCAL_PETS_DIR):\n",
    "        # if local folder does not exist, create folder and untar data\n",
    "        !mkdir -p {LOCAL_DIR}\n",
    "        !tar xfz {SHARED_DIR}finn_animals.tar.gz --directory {LOCAL_DIR}\n",
    "    else:\n",
    "      # untar training data to temporary drive location\n",
    "      !tar xfz {SHARED_DIR}finn_animals.tar.gz\n",
    "\n",
    "setup(persisted_data)\n"
   ]
  },
  {
   "cell_type": "markdown",
   "metadata": {},
   "source": [
    "# Concluding Thoughts"
   ]
  },
  {
   "cell_type": "code",
   "execution_count": null,
   "metadata": {},
   "outputs": [],
   "source": []
  }
 ],
 "metadata": {
  "jupytext": {
   "split_at_heading": true
  },
  "kernelspec": {
   "display_name": "Python 3",
   "language": "python",
   "name": "python3"
  }
 },
 "nbformat": 4,
 "nbformat_minor": 4
}
