{
 "cells": [
  {
   "cell_type": "code",
   "execution_count": null,
   "id": "a82f0684",
   "metadata": {},
   "outputs": [],
   "source": [
    "## This cell is automatically generated\n",
    "import os.path\n",
    "from os import path\n",
    "\n",
    "# set this value to True if you would like to persist datasets locally\n",
    "# (including changes to these datasets)\n",
    "persisted_data = False\n",
    "SHARED_DIR = '/content/gdrive/Shareddrives/FastAICourse/datasets/'\n",
    "LOCAL_DIR = '/content/gdrive/MyDrive/SchibstedFastAICourse/datasets/'\n",
    "TEMPORARY_PETS_DIR = './pets/'\n",
    "TEMPORARY_BULLDOZERS_DIR = './kaggle_bulldozers/'\n",
    "TEMPORARY_POLLUTION_DIR = './kaggle_pollution/'\n",
    "LOCAL_PETS_DIR = LOCAL_DIR+'pets/'\n",
    "LOCAL_BULLDOZERS_DIR = LOCAL_DIR+'kaggle_bulldozers/'\n",
    "LOCAL_POLLUTION_DIR = LOCAL_DIR+'kaggle_pollution/'\n",
    "path=TEMPORARY_BULLDOZERS_DIR\n",
    "\n",
    "def setup(persisted_data):\n",
    "    !pip install -Uqq fastai fastbook fastcore dtreeviz\n",
    "    import fastbook\n",
    "    fastbook.setup_book()\n",
    "    if persisted_data:\n",
    "        #NB: While untaring the training folders you are likely to get a 'unknown header' warning - this can be ignored\n",
    "        # check for existing copy on permanent drive location\n",
    "        if not path.exists(LOCAL_PETS_DIR):\n",
    "            # if local folder does not exist, create folder and untar data\n",
    "            !mkdir -p {LOCAL_DIR}\n",
    "            !tar xfz {SHARED_DIR}finn_animals.tar.gz --directory {LOCAL_DIR}\n",
    "            !tar xfz {SHARED_DIR}kaggle_bulldozers.tar.gz --directory {LOCAL_DIR}\n",
    "            !tar xfz {SHARED_DIR}kaggle_stores.tar.gz --directory {LOCAL_DIR}\n",
    "        path=LOCAL_BULLDOZERS_DIR\n",
    "    else:\n",
    "        # untar training data to temporary drive location\n",
    "        !tar xfz {SHARED_DIR}finn_animals.tar.gz\n",
    "        !tar xfz {SHARED_DIR}kaggle_bulldozers.tar.gz\n",
    "        !tar xfz {SHARED_DIR}kaggle_stores.tar.gz\n",
    "\n",
    "setup(persisted_data)\n",
    "\n",
    "\n"
   ]
  },
  {
   "cell_type": "code",
   "execution_count": null,
   "id": "6b91c0fb",
   "metadata": {},
   "outputs": [],
   "source": [
    "fig=plt.figure()\n",
    "for i in range(0, n):\n",
    "    plt.plot(x, linear_functions[i])"
   ]
  },
  {
   "cell_type": "code",
   "execution_count": null,
   "id": "57d77a0e",
   "metadata": {},
   "outputs": [],
   "source": [
    "#add them all together and plot\n",
    "normal_sum = linear_functions.sum(axis=0)\n",
    "fig = plt.figure()\n",
    "plt.plot(x, normal_sum)"
   ]
  },
  {
   "cell_type": "code",
   "execution_count": null,
   "id": "4c43af91",
   "metadata": {},
   "outputs": [],
   "source": [
    "#apply relu before we add them together (set all negative values to 0)\n",
    "linear_functions_relu = np.maximum(linear_functions, 0)\n",
    "relu_sum = linear_functions_relu.sum(axis=0)\n",
    "fig = plt.figure()\n",
    "plt.plot(x, relu_sum)"
   ]
  },
  {
   "cell_type": "code",
   "execution_count": null,
   "id": "f8e26f35",
   "metadata": {},
   "outputs": [],
   "source": []
  }
 ],
 "metadata": {
  "kernelspec": {
   "display_name": "Python [conda env:fastai2]",
   "language": "python",
   "name": "conda-env-fastai2-py"
  }
 },
 "nbformat": 4,
 "nbformat_minor": 5
}
