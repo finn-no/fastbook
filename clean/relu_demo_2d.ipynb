{
 "cells": [
  {
   "cell_type": "code",
   "execution_count": null,
   "metadata": {},
   "outputs": [],
   "source": [
    "## This cell is automatically generated\n",
    "SHARED_DIR = '/content/gdrive/Shareddrives/FastAICourse/datasets/'\n",
    "def setup():\n",
    "    !pip install -Uqq fastai==2.5.3 fastbook fastcore==1.3.26 tornado==5.1.1\n",
    "    import fastbook\n",
    "    fastbook.setup_book()\n",
    "    !tar xfz {SHARED_DIR}finn_animals.tar.gz\n",
    "\n",
    "FINN_PETS_DIR='./pets/'\n",
    "setup()\n"
   ]
  },
  {
   "cell_type": "code",
   "execution_count": null,
   "id": "6b91c0fb",
   "metadata": {},
   "outputs": [],
   "source": [
    "fig=plt.figure()\n",
    "for i in range(0, n):\n",
    "    plt.plot(x, linear_functions[i])"
   ]
  },
  {
   "cell_type": "code",
   "execution_count": null,
   "id": "57d77a0e",
   "metadata": {},
   "outputs": [],
   "source": [
    "#add them all together and plot\n",
    "normal_sum = linear_functions.sum(axis=0)\n",
    "fig = plt.figure()\n",
    "plt.plot(x, normal_sum)"
   ]
  },
  {
   "cell_type": "code",
   "execution_count": null,
   "id": "4c43af91",
   "metadata": {},
   "outputs": [],
   "source": [
    "#apply relu before we add them together (set all negative values to 0)\n",
    "linear_functions_relu = np.maximum(linear_functions, 0)\n",
    "relu_sum = linear_functions_relu.sum(axis=0)\n",
    "fig = plt.figure()\n",
    "plt.plot(x, relu_sum)"
   ]
  },
  {
   "cell_type": "code",
   "execution_count": null,
   "id": "f8e26f35",
   "metadata": {},
   "outputs": [],
   "source": []
  }
 ],
 "metadata": {
  "kernelspec": {
   "display_name": "Python [conda env:fastai2]",
   "language": "python",
   "name": "conda-env-fastai2-py"
  }
 },
 "nbformat": 4,
 "nbformat_minor": 5
}
