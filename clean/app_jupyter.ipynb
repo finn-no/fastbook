{
 "cells": [
  {
   "cell_type": "code",
   "execution_count": null,
   "id": "ab830674",
   "metadata": {},
   "outputs": [],
   "source": [
    "## This cell is automatically generated\n",
    "import os.path\n",
    "from os import path\n",
    "\n",
    "# set this value to True if you would like to persist datasets locally\n",
    "# (including changes to these datasets)\n",
    "persisted_data = False\n",
    "SHARED_DIR = '/content/gdrive/Shareddrives/FastAICourse/datasets/'\n",
    "LOCAL_DIR = '/content/gdrive/MyDrive/SchibstedFastAICourse/datasets/'\n",
    "TEMPORARY_PETS_DIR = './pets/'\n",
    "TEMPORARY_BULLDOZERS_DIR = './kaggle_bulldozers/'\n",
    "TEMPORARY_POLLUTION_DIR = './kaggle_stores/'\n",
    "LOCAL_PETS_DIR = LOCAL_DIR+'pets/'\n",
    "LOCAL_BULLDOZERS_DIR = LOCAL_DIR+'kaggle_bulldozers/'\n",
    "LOCAL_STORES_DIR = LOCAL_DIR+'kaggle_stores/'\n",
    "path=TEMPORARY_BULLDOZERS_DIR\n",
    "\n",
    "def setup(persisted_data):\n",
    "    !pip install -Uqq fastai fastbook fastcore dtreeviz\n",
    "    import fastbook\n",
    "    fastbook.setup_book()\n",
    "    if persisted_data:\n",
    "        #NB: While untaring the training folders you are likely to get a 'unknown header' warning - this can be ignored\n",
    "        # check for existing copy on permanent drive location\n",
    "        if not path.exists(LOCAL_PETS_DIR):\n",
    "            # if local folder does not exist, create folder and untar data\n",
    "            !mkdir -p {LOCAL_DIR}\n",
    "            !tar xfz {SHARED_DIR}finn_animals.tar.gz --directory {LOCAL_DIR}\n",
    "            !tar xfz {SHARED_DIR}kaggle_bulldozers.tar.gz --directory {LOCAL_DIR}\n",
    "            !tar xfz {SHARED_DIR}kaggle_stores.tar.gz --directory {LOCAL_DIR}\n",
    "        path=LOCAL_BULLDOZERS_DIR\n",
    "    else:\n",
    "        # untar training data to temporary drive location\n",
    "        !tar xfz {SHARED_DIR}finn_animals.tar.gz\n",
    "        !tar xfz {SHARED_DIR}kaggle_bulldozers.tar.gz\n",
    "        !tar xfz {SHARED_DIR}kaggle_stores.tar.gz\n",
    "\n",
    "setup(persisted_data)\n",
    "\n",
    "\n"
   ]
  },
  {
   "cell_type": "code",
   "execution_count": null,
   "metadata": {},
   "outputs": [],
   "source": [
    "from fastbook import *"
   ]
  },
  {
   "cell_type": "markdown",
   "metadata": {},
   "source": [
    "# Appendix: Jupyter Notebook 101"
   ]
  },
  {
   "cell_type": "markdown",
   "metadata": {},
   "source": [
    "## Introduction"
   ]
  },
  {
   "cell_type": "code",
   "execution_count": null,
   "metadata": {},
   "outputs": [],
   "source": [
    "1+1"
   ]
  },
  {
   "cell_type": "markdown",
   "metadata": {},
   "source": [
    "## Writing"
   ]
  },
  {
   "cell_type": "code",
   "execution_count": null,
   "metadata": {},
   "outputs": [],
   "source": [
    "3/2"
   ]
  },
  {
   "cell_type": "markdown",
   "metadata": {},
   "source": [
    "## Modes"
   ]
  },
  {
   "cell_type": "markdown",
   "metadata": {},
   "source": [
    "## Other Important Considerations"
   ]
  },
  {
   "cell_type": "markdown",
   "metadata": {},
   "source": [
    "## Markdown Formatting\n"
   ]
  },
  {
   "cell_type": "markdown",
   "metadata": {},
   "source": [
    "### Italics, Bold, Strikethrough, Inline, Blockquotes and Links"
   ]
  },
  {
   "cell_type": "markdown",
   "metadata": {},
   "source": [
    "### Headings"
   ]
  },
  {
   "cell_type": "markdown",
   "metadata": {},
   "source": [
    "### Lists"
   ]
  },
  {
   "cell_type": "markdown",
   "metadata": {},
   "source": [
    "## Code Capabilities"
   ]
  },
  {
   "cell_type": "code",
   "execution_count": null,
   "metadata": {},
   "outputs": [],
   "source": [
    "# Import necessary libraries\n",
    "from fastai.vision.all import * \n",
    "import matplotlib.pyplot as plt"
   ]
  },
  {
   "cell_type": "code",
   "execution_count": null,
   "metadata": {},
   "outputs": [],
   "source": [
    "from PIL import Image"
   ]
  },
  {
   "cell_type": "code",
   "execution_count": null,
   "metadata": {},
   "outputs": [],
   "source": [
    "a = 1\n",
    "b = a + 1\n",
    "c = b + a + 1\n",
    "d = c + b + a + 1\n",
    "a, b, c ,d"
   ]
  },
  {
   "cell_type": "code",
   "execution_count": null,
   "metadata": {},
   "outputs": [],
   "source": [
    "plt.plot([a,b,c,d])\n",
    "plt.show()"
   ]
  },
  {
   "cell_type": "code",
   "execution_count": null,
   "metadata": {},
   "outputs": [],
   "source": [
    "Image.open(image_cat())"
   ]
  },
  {
   "cell_type": "markdown",
   "metadata": {},
   "source": [
    "## Running the App Locally"
   ]
  },
  {
   "cell_type": "markdown",
   "metadata": {},
   "source": [
    "## Creating a Notebook"
   ]
  },
  {
   "cell_type": "markdown",
   "metadata": {},
   "source": [
    "## Shortcuts and Tricks"
   ]
  },
  {
   "cell_type": "markdown",
   "metadata": {},
   "source": [
    "### Command Mode Shortcuts"
   ]
  },
  {
   "cell_type": "markdown",
   "metadata": {},
   "source": [
    "### Cell Tricks"
   ]
  },
  {
   "cell_type": "markdown",
   "metadata": {},
   "source": [
    "### Line Magics"
   ]
  },
  {
   "cell_type": "code",
   "execution_count": null,
   "metadata": {},
   "outputs": [],
   "source": [
    "%timeit [i+1 for i in range(1000)]"
   ]
  }
 ],
 "metadata": {
  "kernelspec": {
   "display_name": "Python 3",
   "language": "python",
   "name": "python3"
  }
 },
 "nbformat": 4,
 "nbformat_minor": 2
}
